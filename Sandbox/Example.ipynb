{
 "cells": [
  {
   "attachments": {},
   "cell_type": "markdown",
   "metadata": {},
   "source": [
    "# Downloading content from CrisisLex26\n",
    "Instead of relying on manually downloading data from CrisisLexT26 this repo can help. \n",
    "\n",
    "### Step 1 - Clone this repo\n",
    "Clone this repo to retrieve required files and functions."
   ]
  },
  {
   "cell_type": "code",
   "execution_count": null,
   "metadata": {},
   "outputs": [],
   "source": [
    "user = \"Crisitunity-Lab\"\n",
    "repo = \"ARDC-Project\"\n",
    "\n",
    "!git clone https://github.com/$user/$repo /content/repo"
   ]
  },
  {
   "attachments": {},
   "cell_type": "markdown",
   "metadata": {},
   "source": [
    "# Step 2 Install requirements\n",
    "Using pip install the library requirements into the Colab Notebook"
   ]
  },
  {
   "cell_type": "code",
   "execution_count": null,
   "metadata": {},
   "outputs": [],
   "source": [
    "!pip install -r /content/repo/requirements.txt"
   ]
  },
  {
   "attachments": {},
   "cell_type": "markdown",
   "metadata": {},
   "source": [
    "# Step 3 Import Data Utils and get data\n",
    "Using the pre-built function in the data utils file, provide a link to the zipped data and a destination for the data to be unzippe too."
   ]
  },
  {
   "cell_type": "code",
   "execution_count": null,
   "metadata": {},
   "outputs": [],
   "source": [
    "import repo.src.structure_extractor.data_utils as du\n",
    "\n",
    "zip_file_url = \"https://github.com/sajao/CrisisLex/blob/master/releases/CrisisLexT26-v1.0.zip?raw=true\"\n",
    "dest_folder = \"/content/data/\"\n",
    "\n",
    "du.unzip_from_url(src=zip_file_url, dest=dest_folder)"
   ]
  }
 ],
 "metadata": {
  "language_info": {
   "name": "python"
  },
  "orig_nbformat": 4
 },
 "nbformat": 4,
 "nbformat_minor": 2
}
