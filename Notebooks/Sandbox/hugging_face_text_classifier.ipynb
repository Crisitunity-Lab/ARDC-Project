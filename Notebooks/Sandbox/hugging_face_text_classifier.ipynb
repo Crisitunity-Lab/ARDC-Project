{
  "nbformat": 4,
  "nbformat_minor": 0,
  "metadata": {
    "colab": {
      "provenance": [],
      "authorship_tag": "ABX9TyNf0iZHCLmX225+1Ae2GM4u",
      "include_colab_link": true
    },
    "kernelspec": {
      "name": "python3",
      "display_name": "Python 3"
    },
    "language_info": {
      "name": "python"
    }
  },
  "cells": [
    {
      "cell_type": "markdown",
      "metadata": {
        "id": "view-in-github",
        "colab_type": "text"
      },
      "source": [
        "<a href=\"https://colab.research.google.com/github/Crisitunity-Lab/ARDC-Project/blob/main/hugging_face_text_classifier.ipynb\" target=\"_parent\"><img src=\"https://colab.research.google.com/assets/colab-badge.svg\" alt=\"Open In Colab\"/></a>"
      ]
    },
    {
      "cell_type": "code",
      "execution_count": null,
      "metadata": {
        "id": "ZjaP0iaQl6mJ"
      },
      "outputs": [],
      "source": []
    },
    {
      "cell_type": "code",
      "source": [
        "from transformers import load_tool\n",
        "text_classifier = load_tool(\"text-classification\")\n",
        "labels = [\"informative\", \"not informative\"]\n",
        "labels2 = [\"bushfire\", \"flood\"]\n",
        "labels3 = [\"positive\", \"negative\"]\n",
        "text=\"RT @CBCAlerts: Canmore, Alta. declares state of emergency due to flooding  - with some residents being moved to community centre #Alberta #FloodingAlert\"\n",
        "answer = text_classifier(text=text, labels=labels)\n",
        "answer2 = text_classifier(text=text, labels=labels2)\n",
        "answer3 = text_classifier(text=text, labels=labels3)\n",
        "\n",
        "print(f\"The answer is {answer, answer2, answer3}.\")"
      ],
      "metadata": {
        "colab": {
          "base_uri": "https://localhost:8080/"
        },
        "id": "jvHgty56YmUB",
        "outputId": "93867274-3dd5-47b3-d3f6-60a0557b50be"
      },
      "execution_count": null,
      "outputs": [
        {
          "output_type": "stream",
          "name": "stdout",
          "text": [
            "The answer is ('informative', 'flood', 'negative').\n"
          ]
        }
      ]
    },
    {
      "cell_type": "code",
      "source": [],
      "metadata": {
        "id": "WnposGpCg-zQ"
      },
      "execution_count": null,
      "outputs": []
    },
    {
      "cell_type": "code",
      "source": [
        "input_0 = \"RT @CBCAlerts: Canmore, Alta. declares state of emergency due to flooding  - with some residents being moved to community centre #Alberta\"\n",
        "input_1 = \"#Media Large wildfire in N. Colorado prompts evacuations: Crews are battling a fast-moving wildf... http://t.co/ju1BGTKH #Politics #News\"\n",
        "input_2 = \"Flying over the beautiful snow capped #mountains of #colorado #livingsocial #iphonesia #hdr #instagood  http://t.co/tCgmQ2xI\"\n",
        "input_3 = \"#Evacuation center Cache La Poudre Middle School 3515 West County Road 54G in Laporte. #Colorado #Wildfire\"\n",
        "input_4 = \"RT @nenshi: Major risk of flooding in Calgary. Follow directions here: http://t.co/7dLx8aZptf and stay tuned. Please RT widely. #YYC\"\n",
        "input_5 = \"RT @monikarun: Apocalypse #highparkfire   @ Taste of Fort Collins http://t.co/tjhlJqLU\"\n",
        "input_6 = \"RT @TheUmno: MT @KellyNehls: #photo Unedited photo from New Belgium Brewery #highparkfire #fortcollins #loc New Belgium Brewery # http:/ ...\"\n",
        "input_7 = \"I'm at East Library (Colorado Springs, CO) http://t.co/kKcZlWYr\"\n",
        "texts = [input_0, input_1, input_2, input_3, input_4, input_5, input_6, input_7]"
      ],
      "metadata": {
        "id": "uI3wf54Nb_6d"
      },
      "execution_count": null,
      "outputs": []
    },
    {
      "cell_type": "code",
      "source": [
        "# Create a loop for the above code\n",
        "from transformers import load_tool\n",
        "text_classifier = load_tool(\"text-classification\")\n",
        "labels = [\"informative\", \"not informative\",\"unknown\"]\n",
        "labels2 = [\"bushfire\", \"flood\", \"unknown\"]\n",
        "labels3 = [\"positive\", \"negative\",\"neutral\"]\n",
        "labels3 = [\"positive\", \"negative\",\"neutral\"]\n",
        "labels4 = [\"Other Useful Information\", \"Caution and advice\", \"Affected individuals\", \"Infrastructure and utilities\", \"Donations and volunteering\", \"Sympathy and support\", \"Not applicable\"]\n",
        "\n",
        "for text in texts:\n",
        "    answer = text_classifier(text=text, labels=labels)\n",
        "    answer2 = text_classifier(text=text, labels=labels2)\n",
        "    answer3 = text_classifier(text=text, labels=labels3)\n",
        "    answer4 = text_classifier(text=text, labels=labels4)\n",
        "    print(f\"The answer is {text} {answer, answer2, answer3, answer4}.\")\n"
      ],
      "metadata": {
        "id": "B9EqK5Hef4b2",
        "outputId": "9d8e70a6-e985-4fab-ec8b-827869a2f741",
        "colab": {
          "base_uri": "https://localhost:8080/"
        }
      },
      "execution_count": null,
      "outputs": [
        {
          "output_type": "stream",
          "name": "stdout",
          "text": [
            "The answer is RT @CBCAlerts: Canmore, Alta. declares state of emergency due to flooding  - with some residents being moved to community centre #Alberta ('informative', 'flood', 'negative', 'Caution and advice').\n",
            "The answer is #Media Large wildfire in N. Colorado prompts evacuations: Crews are battling a fast-moving wildf... http://t.co/ju1BGTKH #Politics #News ('informative', 'unknown', 'negative', 'Affected individuals').\n",
            "The answer is Flying over the beautiful snow capped #mountains of #colorado #livingsocial #iphonesia #hdr #instagood  http://t.co/tCgmQ2xI ('informative', 'flood', 'positive', 'Sympathy and support').\n",
            "The answer is #Evacuation center Cache La Poudre Middle School 3515 West County Road 54G in Laporte. #Colorado #Wildfire ('informative', 'bushfire', 'negative', 'Affected individuals').\n",
            "The answer is RT @nenshi: Major risk of flooding in Calgary. Follow directions here: http://t.co/7dLx8aZptf and stay tuned. Please RT widely. #YYC ('informative', 'flood', 'negative', 'Caution and advice').\n",
            "The answer is RT @monikarun: Apocalypse #highparkfire   @ Taste of Fort Collins http://t.co/tjhlJqLU ('informative', 'bushfire', 'negative', 'Affected individuals').\n",
            "The answer is RT @TheUmno: MT @KellyNehls: #photo Unedited photo from New Belgium Brewery #highparkfire #fortcollins #loc New Belgium Brewery # http:/ ... ('informative', 'flood', 'neutral', 'Sympathy and support').\n",
            "The answer is I'm at East Library (Colorado Springs, CO) http://t.co/kKcZlWYr ('informative', 'flood', 'negative', 'Other Useful Information').\n"
          ]
        }
      ]
    }
  ]
}
